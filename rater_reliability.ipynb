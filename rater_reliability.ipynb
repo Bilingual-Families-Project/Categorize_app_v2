{
 "cells": [
  {
   "cell_type": "markdown",
   "metadata": {},
   "source": [
    "# Rater Reliability Notebook"
   ]
  },
  {
   "cell_type": "code",
   "execution_count": 13,
   "metadata": {},
   "outputs": [],
   "source": [
    "import pandas as pd\n",
    "import numpy as np\n",
    "from collections import defaultdict\n",
    "import operator"
   ]
  },
  {
   "cell_type": "code",
   "execution_count": 14,
   "metadata": {},
   "outputs": [],
   "source": [
    "#Fill in Participant Number Here\n",
    "participant_number = '1079' \n",
    "df = pd.read_csv(\"summer_2019/1079/output/responses.csv\")"
   ]
  },
  {
   "cell_type": "code",
   "execution_count": 15,
   "metadata": {},
   "outputs": [],
   "source": [
    "df['count'] = df.groupby(['file_name']).file_name.transform('count')"
   ]
  },
  {
   "cell_type": "code",
   "execution_count": 16,
   "metadata": {},
   "outputs": [
    {
     "name": "stdout",
     "output_type": "stream",
     "text": [
      "1 :  93 clips\n",
      "2 :  2 clips\n",
      "3 :  1 clips\n"
     ]
    }
   ],
   "source": [
    "df_an1 = df[df['count'] == 1]\n",
    "val_counts = df['count'].value_counts()\n",
    "for k, v in val_counts.items():\n",
    "    val_counts[k] = int(v)/int(k)\n",
    "    print(int(k), \": \", val_counts[k], \"clips\")"
   ]
  },
  {
   "cell_type": "code",
   "execution_count": 17,
   "metadata": {},
   "outputs": [
    {
     "data": {
      "text/plain": [
       "Spanish                32\n",
       "Mixed                  19\n",
       "No speech              14\n",
       "Unsure                 12\n",
       "Categorize language     8\n",
       "Quechua                 8\n",
       "Name: Language, dtype: int64"
      ]
     },
     "execution_count": 17,
     "metadata": {},
     "output_type": "execute_result"
    }
   ],
   "source": [
    "df_an1['Language'].value_counts()"
   ]
  },
  {
   "cell_type": "code",
   "execution_count": 18,
   "metadata": {},
   "outputs": [],
   "source": [
    "unsure = df_an1[df_an1['Language'] == 'Unsure']"
   ]
  },
  {
   "cell_type": "code",
   "execution_count": 19,
   "metadata": {},
   "outputs": [],
   "source": [
    "languages = set(['Spanish', 'Quechua', 'Mixed'])\n",
    "lang_ratio = df_an1[df_an1['Language'].isin(languages)]"
   ]
  },
  {
   "cell_type": "markdown",
   "metadata": {},
   "source": [
    "### Clips Annotated Twice"
   ]
  },
  {
   "cell_type": "code",
   "execution_count": 20,
   "metadata": {},
   "outputs": [],
   "source": [
    "df_an2 = df[df['count'] == 2]"
   ]
  },
  {
   "cell_type": "code",
   "execution_count": 21,
   "metadata": {},
   "outputs": [],
   "source": [
    "grouped = df_an2.groupby('file_name')"
   ]
  },
  {
   "cell_type": "code",
   "execution_count": 22,
   "metadata": {
    "scrolled": true
   },
   "outputs": [],
   "source": [
    "intrarater_dict = defaultdict(list)\n",
    "interrater_dict = defaultdict(list)\n",
    "for n, group in grouped:\n",
    "    annotators = list(group['annotator'])\n",
    "    group = pd.DataFrame(group).reset_index()\n",
    "    langs = list(group['Language'])\n",
    "    if annotators[0] == annotators[1]:  #SAME\n",
    "        annotator = annotators[0]\n",
    "        if langs[0] == langs[1]:\n",
    "            intrarater_dict[annotator].append(1)\n",
    "            if langs[0] == 'Unsure':\n",
    "                unsure = unsure.append(group[0:1], ignore_index=False, verify_integrity=False, sort=None)\n",
    "            else:\n",
    "                lang_ratio = lang_ratio.append(group[0:1])\n",
    "        else:\n",
    "            if any(elem in languages for elem in langs):\n",
    "                intrarater_dict[annotator].append(0)\n",
    "                if 'Unsure' in langs:\n",
    "                    unsure = unsure.append(group[0:2])\n",
    "    else: #Different\n",
    "        if annotators[0] != annotators[1] and langs[0] == langs[1]:\n",
    "            interrater_dict[annotators[0]].append(1)\n",
    "            interrater_dict[annotators[1]].append(1)\n",
    "            lang_ratio = lang_ratio.append(group[0:1])\n",
    "        else:\n",
    "            if annotators[0] != annotators[1] and any(elem in languages for elem in langs):\n",
    "                interrater_dict[annotators[0]].append(0)\n",
    "                interrater_dict[annotators[1]].append(0)\n",
    "                if any(elem == 'Unsure' for elem in langs):\n",
    "                    unsure = unsure.append(group[0:2])\n"
   ]
  },
  {
   "cell_type": "markdown",
   "metadata": {},
   "source": [
    "## Clips Annotated Thrice+"
   ]
  },
  {
   "cell_type": "code",
   "execution_count": 23,
   "metadata": {},
   "outputs": [],
   "source": [
    "valCount = {'a':2, 'b':1}\n",
    "annToLangs = [('k', 'a'), ('l', 'b'), ('l', 'a')]\n",
    "anns = ['k', 'l', 'l']\n",
    "majorityLang, majorityCount = max(valCount.items(), key=operator.itemgetter(1))\n",
    "allMajorityLangs = [key for key in valCount.keys() if valCount[key]==majorityCount]\n",
    "d1 = defaultdict(list)\n",
    "for ann, lang in annToLangs:\n",
    "    if lang == majorityLang:\n",
    "           d1[ann].append(1)\n",
    "    else:\n",
    "           d1[ann].append(0)"
   ]
  },
  {
   "cell_type": "code",
   "execution_count": 24,
   "metadata": {},
   "outputs": [
    {
     "ename": "TypeError",
     "evalue": "'set' object is not subscriptable",
     "output_type": "error",
     "traceback": [
      "\u001b[1;31m---------------------------------------------------------------------------\u001b[0m",
      "\u001b[1;31mTypeError\u001b[0m                                 Traceback (most recent call last)",
      "\u001b[1;32m<ipython-input-24-39fed05aaf26>\u001b[0m in \u001b[0;36m<module>\u001b[1;34m\u001b[0m\n\u001b[0;32m     12\u001b[0m         \u001b[0mlang_ratio\u001b[0m \u001b[1;33m=\u001b[0m \u001b[0mlang_ratio\u001b[0m\u001b[1;33m.\u001b[0m\u001b[0mappend\u001b[0m\u001b[1;33m(\u001b[0m\u001b[0mgroup\u001b[0m\u001b[1;33m[\u001b[0m\u001b[1;36m0\u001b[0m\u001b[1;33m:\u001b[0m\u001b[1;36m1\u001b[0m\u001b[1;33m]\u001b[0m\u001b[1;33m)\u001b[0m\u001b[1;33m\u001b[0m\u001b[1;33m\u001b[0m\u001b[0m\n\u001b[0;32m     13\u001b[0m         \u001b[1;32mif\u001b[0m \u001b[0mlen\u001b[0m\u001b[1;33m(\u001b[0m\u001b[0muniqueAnns\u001b[0m\u001b[1;33m)\u001b[0m \u001b[1;33m==\u001b[0m \u001b[1;36m1\u001b[0m\u001b[1;33m:\u001b[0m\u001b[1;33m\u001b[0m\u001b[1;33m\u001b[0m\u001b[0m\n\u001b[1;32m---> 14\u001b[1;33m             \u001b[0mintrarater_dict\u001b[0m\u001b[1;33m[\u001b[0m\u001b[0muniqueAnns\u001b[0m\u001b[1;33m[\u001b[0m\u001b[1;36m0\u001b[0m\u001b[1;33m]\u001b[0m\u001b[1;33m]\u001b[0m\u001b[1;33m.\u001b[0m\u001b[0mappend\u001b[0m\u001b[1;33m(\u001b[0m\u001b[1;36m1\u001b[0m\u001b[1;33m)\u001b[0m\u001b[1;33m\u001b[0m\u001b[1;33m\u001b[0m\u001b[0m\n\u001b[0m\u001b[0;32m     15\u001b[0m         \u001b[1;32melse\u001b[0m\u001b[1;33m:\u001b[0m\u001b[1;33m\u001b[0m\u001b[1;33m\u001b[0m\u001b[0m\n\u001b[0;32m     16\u001b[0m             \u001b[1;32mfor\u001b[0m \u001b[0mann\u001b[0m\u001b[1;33m,\u001b[0m \u001b[0mlang\u001b[0m \u001b[1;32min\u001b[0m \u001b[0mannToLangs\u001b[0m\u001b[1;33m:\u001b[0m\u001b[1;33m\u001b[0m\u001b[1;33m\u001b[0m\u001b[0m\n",
      "\u001b[1;31mTypeError\u001b[0m: 'set' object is not subscriptable"
     ]
    }
   ],
   "source": [
    "df_an3 = df[df['count'] >= 3]\n",
    "grouped3 = df_an3.groupby('file_name')\n",
    "for n, group in grouped3:\n",
    "    annotators = list(group['annotator'])\n",
    "    langs = list(group['Language'])\n",
    "    annToLangs = zip(annotators, langs)\n",
    "    uniqueAnns = set(annotators)\n",
    "    valCount = group['Language'].value_counts()\n",
    "    majorityLang, majorityCount = max(valCount.items(), key=operator.itemgetter(1))\n",
    "    allMajorityLangs = [key for key in valCount.keys() if valCount[key]==majorityCount]\n",
    "    if len(allMajorityLangs) == 1 and majorityLang in languages:\n",
    "        lang_ratio = lang_ratio.append(group[0:1])\n",
    "        if len(uniqueAnns) == 1:\n",
    "            intrarater_dict[uniqueAnns[0]].append(1)\n",
    "        else:\n",
    "            for ann, lang in annToLangs:\n",
    "                if lang == majorityLang:\n",
    "                    interrater_dict[ann].append(1)\n",
    "                else:\n",
    "                    interrater_dict[ann].append(0)\n"
   ]
  },
  {
   "cell_type": "markdown",
   "metadata": {},
   "source": [
    "## Interrater Ratio"
   ]
  },
  {
   "cell_type": "code",
   "execution_count": 30,
   "metadata": {},
   "outputs": [],
   "source": [
    "interrater_df = pd.DataFrame(columns=['Annotator', 'InterRatio'])\n",
    "for ann in interrater_dict:\n",
    "    inter_ratio = sum(interrater_dict[ann])/len(interrater_dict[ann])\n",
    "    print(ann, \"Ratio: \" , inter_ratio)\n",
    "    print(\"Number of clips: \", len(interrater_dict[ann]))\n",
    "    interrater_df = interrater_df.append({'Annotator': ann, 'IntraRatio':inter_ratio}, ignore_index=True)"
   ]
  },
  {
   "cell_type": "markdown",
   "metadata": {},
   "source": [
    "## Intrarater Ratio"
   ]
  },
  {
   "cell_type": "code",
   "execution_count": 27,
   "metadata": {},
   "outputs": [
    {
     "name": "stdout",
     "output_type": "stream",
     "text": [
      "Meg Ratio:  1.0\n",
      "Number of clips:  1\n",
      "Adela Ratio:  0.0\n",
      "Number of clips:  1\n"
     ]
    },
    {
     "data": {
      "text/html": [
       "<div>\n",
       "<style scoped>\n",
       "    .dataframe tbody tr th:only-of-type {\n",
       "        vertical-align: middle;\n",
       "    }\n",
       "\n",
       "    .dataframe tbody tr th {\n",
       "        vertical-align: top;\n",
       "    }\n",
       "\n",
       "    .dataframe thead th {\n",
       "        text-align: right;\n",
       "    }\n",
       "</style>\n",
       "<table border=\"1\" class=\"dataframe\">\n",
       "  <thead>\n",
       "    <tr style=\"text-align: right;\">\n",
       "      <th></th>\n",
       "      <th>Annotator</th>\n",
       "      <th>IntraRatio</th>\n",
       "    </tr>\n",
       "  </thead>\n",
       "  <tbody>\n",
       "    <tr>\n",
       "      <th>0</th>\n",
       "      <td>Meg</td>\n",
       "      <td>1.0</td>\n",
       "    </tr>\n",
       "    <tr>\n",
       "      <th>1</th>\n",
       "      <td>Adela</td>\n",
       "      <td>0.0</td>\n",
       "    </tr>\n",
       "  </tbody>\n",
       "</table>\n",
       "</div>"
      ],
      "text/plain": [
       "  Annotator  IntraRatio\n",
       "0       Meg         1.0\n",
       "1     Adela         0.0"
      ]
     },
     "execution_count": 27,
     "metadata": {},
     "output_type": "execute_result"
    }
   ],
   "source": [
    "intrarater_df = pd.DataFrame(columns=['Annotator', 'IntraRatio'])\n",
    "for ann in intrarater_dict:\n",
    "    intra_ratio = sum(intrarater_dict[ann])/len(intrarater_dict[ann])\n",
    "    print(ann, \"Ratio: \" , intra_ratio)\n",
    "    print(\"Number of clips: \", len(intrarater_dict[ann]))\n",
    "    intrarater_df = intrarater_df.append({'Annotator': ann, 'IntraRatio':intra_ratio}, ignore_index=True)"
   ]
  },
  {
   "cell_type": "markdown",
   "metadata": {},
   "source": [
    "## Convert to CSV"
   ]
  },
  {
   "cell_type": "code",
   "execution_count": null,
   "metadata": {},
   "outputs": [],
   "source": [
    "interrater_df.to_csv(participant_number + '_interrater.csv')\n",
    "intrarater_df.to_csv(participant_number  + '_intrarater.csv')\n",
    "lang_ratio.to_csv(participant_number + '_bilingualratio.csv')\n",
    "unsure.to_csv(participant_number  + '_relisten.csv')"
   ]
  }
 ],
 "metadata": {
  "kernelspec": {
   "display_name": "Python 3",
   "language": "python",
   "name": "python3"
  },
  "language_info": {
   "codemirror_mode": {
    "name": "ipython",
    "version": 3
   },
   "file_extension": ".py",
   "mimetype": "text/x-python",
   "name": "python",
   "nbconvert_exporter": "python",
   "pygments_lexer": "ipython3",
   "version": "3.8.1"
  }
 },
 "nbformat": 4,
 "nbformat_minor": 1
}
