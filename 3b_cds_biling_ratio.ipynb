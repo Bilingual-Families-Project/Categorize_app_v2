{
 "cells": [
  {
   "cell_type": "markdown",
   "metadata": {},
   "source": [
    "# Bilingual Ratio Notebook Version 2\n",
    "Go to Cell > Run All to run the notebook. "
   ]
  },
  {
   "cell_type": "code",
   "execution_count": null,
   "metadata": {},
   "outputs": [],
   "source": [
    "import pandas as pd\n",
    "import numpy as np \n",
    "import csv\n",
    "import matplotlib.pyplot as plt"
   ]
  },
  {
   "cell_type": "code",
   "execution_count": null,
   "metadata": {},
   "outputs": [],
   "source": [
    "df = pd.read_csv(\"summer_2019/1032/30secs_output/responses.csv\")"
   ]
  },
  {
   "cell_type": "markdown",
   "metadata": {},
   "source": [
    "This gives you a general sense of the language breakdown of the participant."
   ]
  },
  {
   "cell_type": "code",
   "execution_count": null,
   "metadata": {},
   "outputs": [],
   "source": [
    "list(df.columns.values)"
   ]
  },
  {
   "cell_type": "code",
   "execution_count": null,
   "metadata": {},
   "outputs": [],
   "source": [
    "languageCols = ['Adult2OtherChild',\n",
    " 'Adult2Others',\n",
    " 'Adult2TargetChild',\n",
    " 'Adult2unsure',\n",
    "'Otherchild2OtherChild',\n",
    " 'Otherchild2TargetChild',\n",
    " 'Otherchild2adults',\n",
    " 'Otherchild2unsure']\n",
    "languageCols"
   ]
  },
  {
   "cell_type": "code",
   "execution_count": null,
   "metadata": {},
   "outputs": [],
   "source": [
    "df_lang = pd.DataFrame(df, columns=languageCols)\n",
    "df_val_count = df_lang.apply(pd.Series.value_counts)"
   ]
  },
  {
   "cell_type": "markdown",
   "metadata": {},
   "source": [
    "language category breakdown (independent of addressee)\n"
   ]
  },
  {
   "cell_type": "code",
   "execution_count": null,
   "metadata": {},
   "outputs": [],
   "source": [
    "df_lang_indep = df_val_count[~df_val_count.index.str.contains('Categorize')].sum(axis=1)\n",
    "df_lang_indep"
   ]
  },
  {
   "cell_type": "markdown",
   "metadata": {},
   "source": [
    "addressee breakdown (independent of language)"
   ]
  },
  {
   "cell_type": "code",
   "execution_count": null,
   "metadata": {},
   "outputs": [],
   "source": [
    "df_add_indep = df_val_count[~df_val_count.index.str.contains('Categorize')].sum(axis=0)\n",
    "df_add_indep"
   ]
  },
  {
   "cell_type": "markdown",
   "metadata": {},
   "source": [
    "language*addressee breakdown"
   ]
  },
  {
   "cell_type": "code",
   "execution_count": null,
   "metadata": {},
   "outputs": [],
   "source": [
    "df_val_count[~df_val_count.index.str.contains('Categorize')]"
   ]
  },
  {
   "cell_type": "markdown",
   "metadata": {},
   "source": [
    "bar graph of language category count\n"
   ]
  },
  {
   "cell_type": "code",
   "execution_count": null,
   "metadata": {},
   "outputs": [],
   "source": [
    "df_lang_indep.index"
   ]
  },
  {
   "cell_type": "code",
   "execution_count": null,
   "metadata": {},
   "outputs": [],
   "source": [
    "x = np.arange(len(df_lang_indep))\n",
    "plt.bar(x, df_lang_indep)\n",
    "plt.xticks(x, df_lang_indep.index)\n",
    "plt.title('Counts of each Language Category')\n",
    "plt.xlabel('Language Category')\n",
    "plt.ylabel('Count')\n",
    "for i, v in enumerate(df_lang_indep):\n",
    "    plt.text(x[i] - .25, v + 1.1, str(v))\n",
    "plt.show()"
   ]
  },
  {
   "cell_type": "markdown",
   "metadata": {},
   "source": [
    "bar graph of addressee category count"
   ]
  },
  {
   "cell_type": "code",
   "execution_count": null,
   "metadata": {},
   "outputs": [],
   "source": [
    "x = np.arange(len(df_add_indep))\n",
    "plt.bar(x, df_add_indep)\n",
    "plt.xticks(x, df_add_indep.index)\n",
    "plt.title('Counts of each Addressee Category')\n",
    "plt.xlabel('Addressee Category')\n",
    "plt.ylabel('Count')\n",
    "for i, v in enumerate(df_add_indep):\n",
    "    plt.text(x[i] - .25, v + 1.1, str(v))\n",
    "plt.show()"
   ]
  },
  {
   "cell_type": "markdown",
   "metadata": {},
   "source": [
    "## Bilingual Ratio/Variance vs. Entry Number"
   ]
  },
  {
   "cell_type": "code",
   "execution_count": null,
   "metadata": {},
   "outputs": [],
   "source": [
    "spanish, quechua, mixed, other = 1, 1, 1, 1\n",
    "num = 0\n",
    "entryNums = []\n",
    "spanishRatios = []\n",
    "quechuaRatios = []\n",
    "mixedRatios = []\n",
    "variances = []\n",
    "for index, row in df.iterrows():\n",
    "    for column in languageCols:\n",
    "        lang = row[column]\n",
    "        if lang == 'Spanish': \n",
    "            spanish += 1 \n",
    "        elif lang == 'English/Quechua':\n",
    "            quechua += 1 \n",
    "        elif lang == 'Mixed': \n",
    "            mixed += 1\n",
    "        else: \n",
    "            other += 1\n",
    "    entryNums.append(num)\n",
    "    num += 1\n",
    "    spanishRatios.append(spanish/(quechua + spanish + mixed))\n",
    "    quechuaRatios.append(quechua/(quechua + spanish + mixed))\n",
    "    mixedRatios.append(mixed/(quechua + spanish + mixed))\n",
    "    variances.append(np.var(spanishRatios))"
   ]
  },
  {
   "cell_type": "markdown",
   "metadata": {},
   "source": [
    "## Bilingual Ratio\n",
    "This will display the ratio of the Spanish counts compared to the rest of the counts, an error bar is also displayed which shows the variance at each point, which should also decrease."
   ]
  },
  {
   "cell_type": "code",
   "execution_count": null,
   "metadata": {},
   "outputs": [],
   "source": [
    "### RATIOS VS ENTRY NUMS\n",
    "plt.title('Bilingual Ratio over Entry Number')\n",
    "plt.ylabel('Ratio of Spanish / Total ')\n",
    "plt.xlabel('Entry Number')\n",
    "plt.plot(entryNums, spanishRatios)\n",
    "plt.errorbar(entryNums, spanishRatios, yerr=variances, fmt='none', ecolor='#e67f83');\n",
    "plt.show()"
   ]
  },
  {
   "cell_type": "markdown",
   "metadata": {},
   "source": [
    "## Variance\n",
    "We want variance to get lower over the number of entries, so that the Spanish bilingual ratio stabilizes over time. It is important to watch variance and the graph above, just marking the ratio to find out when there have been enough entries annotated."
   ]
  },
  {
   "cell_type": "code",
   "execution_count": null,
   "metadata": {},
   "outputs": [],
   "source": [
    "## VARIANCE VS ENTRY NUMS\n",
    "plt.title('Bilingual Ratio Variance over Entry Number')\n",
    "plt.ylabel('Ratio of Spanish / Total ')\n",
    "plt.xlabel('Entry Number')\n",
    "plt.plot(entryNums, variances)\n",
    "plt.show()"
   ]
  },
  {
   "cell_type": "markdown",
   "metadata": {},
   "source": [
    "## Stackplot of Ratios\n",
    "This shows what the breakdown over entry number each language has."
   ]
  },
  {
   "cell_type": "code",
   "execution_count": null,
   "metadata": {},
   "outputs": [],
   "source": [
    "plt.stackplot(entryNums, [spanishRatios, quechuaRatios, mixedRatios], baseline='zero', labels=['Spanish', 'English/Quechua', \n",
    "                            'Mixed'], colors=['#6aaa96', '#aecdc2', '#f0b8b8'])\n",
    "plt.title('Area Plot of Ratios')\n",
    "plt.xlabel('Entry Number')\n",
    "plt.ylabel('Ratio')\n",
    "plt.legend()\n",
    "plt.show()"
   ]
  },
  {
   "cell_type": "markdown",
   "metadata": {},
   "source": [
    "addressee ratio over entry number\n",
    "addressee ratio variance over entry number\n",
    "area plot of addressee ratios\n"
   ]
  },
  {
   "cell_type": "markdown",
   "metadata": {},
   "source": [
    "## Addressee Ratio"
   ]
  },
  {
   "cell_type": "code",
   "execution_count": null,
   "metadata": {},
   "outputs": [],
   "source": [
    "adult, target_child, other_child, unsure = 1, 1, 1, 1\n",
    "num = 0\n",
    "entryNums = []\n",
    "adultRatios = []\n",
    "targetRatios = []\n",
    "otherRatios = []\n",
    "variances = []\n",
    "languages = ['Spanish', 'English/Quechua', 'Mixed']\n",
    "adultCols = ['Otherchild2adults', 'Adult2Others']\n",
    "targetCols = ['Otherchild2TargetChild', 'Adult2TargetChild']\n",
    "otherCols = ['Otherchild2OtherChild', 'Adult2OtherChild']\n",
    "for index, row in df.iterrows():\n",
    "    for column in languageCols:\n",
    "        lang = row[column]\n",
    "        if lang in languages: \n",
    "            if column in adultCols: \n",
    "                adult += 1\n",
    "            elif column in targetCols: \n",
    "                target_child += 1\n",
    "            elif column in otherCols: \n",
    "                other_child += 1\n",
    "            else: \n",
    "                unsure += 1\n",
    "    entryNums.append(num)\n",
    "    num += 1\n",
    "    adultRatios.append(adult/(target_child + adult + other_child))\n",
    "    targetRatios.append(target_child/(target_child + adult + other_child))\n",
    "    otherRatios.append(other_child/(target_child + adult + other_child))\n",
    "    variances.append(np.var(adultRatios))"
   ]
  },
  {
   "cell_type": "markdown",
   "metadata": {},
   "source": [
    "## Addressee Ratio"
   ]
  },
  {
   "cell_type": "code",
   "execution_count": null,
   "metadata": {},
   "outputs": [],
   "source": [
    "### RATIOS VS ENTRY NUMS\n",
    "plt.title('Addressee Ratio over Entry Number')\n",
    "plt.ylabel('Ratio of Adult / Total ')\n",
    "plt.xlabel('Entry Number')\n",
    "plt.plot(entryNums, adultRatios)\n",
    "plt.errorbar(entryNums, adultRatios, yerr=variances, fmt='none', ecolor='#e67f83');\n",
    "plt.show()"
   ]
  },
  {
   "cell_type": "markdown",
   "metadata": {},
   "source": [
    "## Stackplot Addressee Ratios"
   ]
  },
  {
   "cell_type": "code",
   "execution_count": null,
   "metadata": {},
   "outputs": [],
   "source": [
    "plt.stackplot(entryNums, [adultRatios, targetRatios, otherRatios], baseline='zero', labels=['Adult', 'Target Child', \n",
    "                            'Other Child'], colors=['#6aaa96', '#aecdc2', '#f0b8b8'])\n",
    "plt.title('Area Plot of Addressee Ratios')\n",
    "plt.xlabel('Entry Number')\n",
    "plt.ylabel('Ratio')\n",
    "plt.legend()\n",
    "plt.show()"
   ]
  },
  {
   "cell_type": "markdown",
   "metadata": {},
   "source": [
    "Spanish to adult, Quechua to adult, Mixed to adult, Spanish to other child, Quechua to other child, Mixed to other child, Spanish to target child, Quechua to target child, and Mixed to target child."
   ]
  },
  {
   "cell_type": "code",
   "execution_count": null,
   "metadata": {},
   "outputs": [],
   "source": [
    "spanish_adult, spanish_target_child, spanish_other_child, spanish_unsure = 1, 1, 1, 1\n",
    "quechua_adult, quechua_target_child, quechua_other_child, quechua_unsure = 1, 1, 1, 1\n",
    "mixed_adult, mixed_target_child, mixed_other_child, mixed_unsure = 1, 1, 1, 1\n",
    "\n",
    "num = 0\n",
    "entryNums = []\n",
    "spanishAdultRatios, spanishTargetRatios, spanishOtherRatios = [], [], []\n",
    "quechuaAdultRatios, quechuaTargetRatios, quechuaOtherRatios = [], [], []\n",
    "mixedAdultRatios, mixedTargetRatios, mixedOtherRatios = [], [], []\n",
    "spanishVariances, quechuaVariances, mixedVariances = [], [], []\n",
    "\n",
    "adultSpanishRatios, adultQuechuaRatios, adultMixedRatios = [], [], []\n",
    "targetSpanishRatios, targetQuechuaRatios, targetMixedRatios = [], [], []\n",
    "otherSpanishRatios, otherQuechuaRatios, otherMixedRatios = [], [], []\n",
    "adultVariances, targetVariances, otherVariances = [], [], []\n",
    "\n",
    "\n",
    "languages = ['Spanish', 'English/Quechua', 'Mixed']\n",
    "adultCols = ['Otherchild2adults', 'Adult2Others']\n",
    "targetCols = ['Otherchild2TargetChild', 'Adult2TargetChild']\n",
    "otherCols = ['Otherchild2OtherChild', 'Adult2OtherChild']\n",
    "\n",
    "for index, row in df.iterrows():\n",
    "    for column in languageCols:\n",
    "        lang = row[column]\n",
    "        if lang == 'Spanish': \n",
    "            if column in adultCols: \n",
    "                spanish_adult += 1\n",
    "            elif column in targetCols: \n",
    "                spanish_target_child += 1\n",
    "            elif column in otherCols: \n",
    "                spanish_other_child += 1\n",
    "            else: \n",
    "                spanish_unsure += 1\n",
    "        elif lang == 'English/Quechua':\n",
    "            if column in adultCols: \n",
    "                quechua_adult += 1\n",
    "            elif column in targetCols: \n",
    "                quechua_target_child += 1\n",
    "            elif column in otherCols: \n",
    "                quechua_other_child += 1\n",
    "            else: \n",
    "                quechua_unsure += 1\n",
    "        elif lang == 'Mixed':\n",
    "            if column in adultCols: \n",
    "                mixed_adult += 1\n",
    "            elif column in targetCols: \n",
    "                mixed_target_child += 1\n",
    "            elif column in otherCols: \n",
    "                mixed_other_child += 1\n",
    "            else: \n",
    "                mixed_unsure += 1\n",
    "            \n",
    "    entryNums.append(num)\n",
    "    num += 1\n",
    "    \n",
    "    spanishAdultRatios.append(spanish_adult/(spanish_target_child + spanish_adult + spanish_other_child))\n",
    "    spanishTargetRatios.append(spanish_target_child/(spanish_target_child + spanish_adult + spanish_other_child))\n",
    "    spanishOtherRatios.append(spanish_other_child/(spanish_target_child + spanish_adult + spanish_other_child))\n",
    "    spanishVariances.append(np.var(spanishAdultRatios))\n",
    "    \n",
    "    quechuaAdultRatios.append(quechua_adult/(quechua_target_child + quechua_adult + quechua_other_child))\n",
    "    quechuaTargetRatios.append(quechua_target_child/(quechua_target_child + quechua_adult + quechua_other_child))\n",
    "    quechuaOtherRatios.append(quechua_other_child/(quechua_target_child + quechua_adult + quechua_other_child))\n",
    "    quechuaVariances.append(np.var(quechuaAdultRatios))\n",
    "\n",
    "    mixedAdultRatios.append(mixed_adult/(mixed_target_child + mixed_adult + mixed_other_child))\n",
    "    mixedTargetRatios.append(mixed_target_child/(mixed_target_child + mixed_adult + mixed_other_child))\n",
    "    mixedOtherRatios.append(mixed_other_child/(mixed_target_child + mixed_adult + mixed_other_child))\n",
    "    mixedVariances.append(np.var(mixedAdultRatios))\n",
    "    \n",
    "    adultSpanishRatios.append(spanish_adult/(spanish_adult + quechua_adult + mixed_adult))\n",
    "    adultQuechuaRatios.append(quechua_adult/(spanish_adult + quechua_adult + mixed_adult))\n",
    "    adultMixedRatios.append(mixed_adult/(spanish_adult + quechua_adult + mixed_adult))\n",
    "    adultVariances.append(np.var(adultSpanishRatios))\n",
    "    \n",
    "    targetSpanishRatios.append(spanish_target_child/(spanish_target_child + quechua_target_child + mixed_target_child))\n",
    "    targetQuechuaRatios.append(quechua_target_child/(spanish_target_child + quechua_target_child + mixed_target_child))\n",
    "    targetMixedRatios.append(mixed_target_child/(spanish_target_child + quechua_target_child + mixed_target_child))\n",
    "    targetVariances.append(np.var(targetSpanishRatios))\n",
    "    \n",
    "    otherSpanishRatios.append(spanish_other_child/(spanish_other_child + quechua_other_child + mixed_other_child))\n",
    "    otherQuechuaRatios.append(quechua_other_child/(spanish_other_child + quechua_other_child + mixed_other_child))\n",
    "    otherMixedRatios.append(mixed_other_child/(spanish_other_child + quechua_other_child + mixed_other_child))\n",
    "    otherVariances.append(np.var(otherSpanishRatios))\n"
   ]
  },
  {
   "cell_type": "markdown",
   "metadata": {},
   "source": [
    "### Spanish to Adult"
   ]
  },
  {
   "cell_type": "code",
   "execution_count": null,
   "metadata": {},
   "outputs": [],
   "source": [
    "### RATIOS VS ENTRY NUMS\n",
    "plt.title('Spanish to Adult Ratio over Entry Number')\n",
    "plt.ylabel('Ratio of Spanish / Total ')\n",
    "plt.xlabel('Entry Number')\n",
    "plt.plot(entryNums, spanishAdultRatios)\n",
    "plt.errorbar(entryNums, spanishAdultRatios, yerr=spanishVariances, fmt='none', ecolor='#e67f83');\n",
    "plt.show()"
   ]
  },
  {
   "cell_type": "markdown",
   "metadata": {},
   "source": [
    "### Spanish to Target"
   ]
  },
  {
   "cell_type": "code",
   "execution_count": null,
   "metadata": {},
   "outputs": [],
   "source": [
    "plt.title('Spanish to Target Child Ratio over Entry Number')\n",
    "plt.ylabel('Ratio of Spanish / Total ')\n",
    "plt.xlabel('Entry Number')\n",
    "plt.plot(entryNums, spanishTargetRatios)\n",
    "plt.errorbar(entryNums, spanishTargetRatios, yerr=spanishVariances, fmt='none', ecolor='#e67f83');\n",
    "plt.show()"
   ]
  },
  {
   "cell_type": "markdown",
   "metadata": {},
   "source": [
    "### Spanish to Other"
   ]
  },
  {
   "cell_type": "code",
   "execution_count": null,
   "metadata": {},
   "outputs": [],
   "source": [
    "plt.title('Spanish to Other Child Ratio over Entry Number')\n",
    "plt.ylabel('Ratio of Spanish / Total ')\n",
    "plt.xlabel('Entry Number')\n",
    "plt.plot(entryNums, spanishOtherRatios)\n",
    "plt.errorbar(entryNums, spanishOtherRatios, yerr=spanishVariances, fmt='none', ecolor='#e67f83');\n",
    "plt.show()"
   ]
  },
  {
   "cell_type": "markdown",
   "metadata": {},
   "source": [
    "### Stackplot of Spanish to Addressee"
   ]
  },
  {
   "cell_type": "code",
   "execution_count": null,
   "metadata": {},
   "outputs": [],
   "source": [
    "plt.stackplot(entryNums, [spanishAdultRatios, spanishTargetRatios, spanishOtherRatios], baseline='zero', \n",
    "              labels=['Spanish to Adult', 'Spanish to Target Child', \n",
    "                            'Spanish to Other Child'], colors=['#6aaa96', '#aecdc2', '#f0b8b8'])\n",
    "plt.title('Area Plot of Ratios')\n",
    "plt.xlabel('Entry Number')\n",
    "plt.ylabel('Ratio')\n",
    "plt.legend()\n",
    "plt.show()"
   ]
  },
  {
   "cell_type": "markdown",
   "metadata": {},
   "source": [
    "### Quechua to Adult"
   ]
  },
  {
   "cell_type": "code",
   "execution_count": null,
   "metadata": {},
   "outputs": [],
   "source": [
    "plt.title('Quechua to Adult Ratio over Entry Number')\n",
    "plt.ylabel('Ratio of Spanish / Total ')\n",
    "plt.xlabel('Entry Number')\n",
    "plt.plot(entryNums, quechuaAdultRatios)\n",
    "plt.errorbar(entryNums, quechuaAdultRatios, yerr=quechuaVariances, fmt='none', ecolor='#e67f83');\n",
    "plt.show()"
   ]
  },
  {
   "cell_type": "markdown",
   "metadata": {},
   "source": [
    "### Quechua to Target"
   ]
  },
  {
   "cell_type": "code",
   "execution_count": null,
   "metadata": {},
   "outputs": [],
   "source": [
    "plt.title('Quechua to Target Child Ratio over Entry Number')\n",
    "plt.ylabel('Ratio of Quechua / Total ')\n",
    "plt.xlabel('Entry Number')\n",
    "plt.plot(entryNums, quechuaTargetRatios)\n",
    "plt.errorbar(entryNums, quechuaTargetRatios, yerr=quechuaVariances, fmt='none', ecolor='#e67f83');\n",
    "plt.show()"
   ]
  },
  {
   "cell_type": "markdown",
   "metadata": {},
   "source": [
    "### Quechua to Other Child"
   ]
  },
  {
   "cell_type": "code",
   "execution_count": null,
   "metadata": {},
   "outputs": [],
   "source": [
    "plt.title('Quechua to Other Child Ratio over Entry Number')\n",
    "plt.ylabel('Ratio of Quechua / Total ')\n",
    "plt.xlabel('Entry Number')\n",
    "plt.plot(entryNums, quechuaOtherRatios)\n",
    "plt.errorbar(entryNums, quechuaOtherRatios, yerr=quechuaVariances, fmt='none', ecolor='#e67f83');\n",
    "plt.show()"
   ]
  },
  {
   "cell_type": "markdown",
   "metadata": {},
   "source": [
    "### Stackplot of Quechua to Addressee"
   ]
  },
  {
   "cell_type": "code",
   "execution_count": null,
   "metadata": {},
   "outputs": [],
   "source": [
    "plt.stackplot(entryNums, [quechuaAdultRatios, quechuaTargetRatios, quechuaOtherRatios], baseline='zero', \n",
    "              labels=['Quechua to Adult', 'Quechua to Target Child', 'Quechua to Other Child'], colors=['#6aaa96', '#aecdc2', '#f0b8b8'])\n",
    "plt.title('Area Plot of Ratios')\n",
    "plt.xlabel('Entry Number')\n",
    "plt.ylabel('Ratio')\n",
    "plt.legend()\n",
    "plt.show()"
   ]
  },
  {
   "cell_type": "markdown",
   "metadata": {},
   "source": [
    "### Mixed to Adult"
   ]
  },
  {
   "cell_type": "code",
   "execution_count": null,
   "metadata": {},
   "outputs": [],
   "source": [
    "plt.title('Mixed to Adult Ratio over Entry Number')\n",
    "plt.ylabel('Ratio of Spanish / Total ')\n",
    "plt.xlabel('Entry Number')\n",
    "plt.plot(entryNums, mixedAdultRatios)\n",
    "plt.errorbar(entryNums, mixedAdultRatios, yerr=mixedVariances, fmt='none', ecolor='#e67f83');\n",
    "plt.show()"
   ]
  },
  {
   "cell_type": "markdown",
   "metadata": {},
   "source": [
    "### Mixed to Target"
   ]
  },
  {
   "cell_type": "code",
   "execution_count": null,
   "metadata": {},
   "outputs": [],
   "source": [
    "plt.title('Mixed to Target Child Ratio over Entry Number')\n",
    "plt.ylabel('Ratio of Spanish / Total ')\n",
    "plt.xlabel('Entry Number')\n",
    "plt.plot(entryNums, mixedTargetRatios)\n",
    "plt.errorbar(entryNums, mixedTargetRatios, yerr=mixedVariances, fmt='none', ecolor='#e67f83');\n",
    "plt.show()"
   ]
  },
  {
   "cell_type": "markdown",
   "metadata": {},
   "source": [
    "### Mixed to Other"
   ]
  },
  {
   "cell_type": "code",
   "execution_count": null,
   "metadata": {},
   "outputs": [],
   "source": [
    "plt.title('Mixed to Other Child Ratio over Entry Number')\n",
    "plt.ylabel('Ratio of Mixed / Total ')\n",
    "plt.xlabel('Entry Number')\n",
    "plt.plot(entryNums, mixedOtherRatios)\n",
    "plt.errorbar(entryNums, mixedOtherRatios, yerr=mixedVariances, fmt='none', ecolor='#e67f83');\n",
    "plt.show()"
   ]
  },
  {
   "cell_type": "markdown",
   "metadata": {},
   "source": [
    "### Stackplot of Mixed to Addressee"
   ]
  },
  {
   "cell_type": "code",
   "execution_count": null,
   "metadata": {},
   "outputs": [],
   "source": [
    "plt.stackplot(entryNums, [mixedAdultRatios, mixedTargetRatios, mixedOtherRatios], baseline='zero', \n",
    "              labels=['Mixed to Adult', 'Mixed to Target Child', 'Mixed to Other Child'], colors=['#6aaa96', '#aecdc2', '#f0b8b8'])\n",
    "plt.title('Area Plot of Mixed Ratios')\n",
    "plt.xlabel('Entry Number')\n",
    "plt.ylabel('Ratio')\n",
    "plt.legend()\n",
    "plt.show()"
   ]
  },
  {
   "cell_type": "markdown",
   "metadata": {},
   "source": [
    "### Adult to Spanish"
   ]
  },
  {
   "cell_type": "code",
   "execution_count": null,
   "metadata": {},
   "outputs": [],
   "source": [
    "plt.title('Adult to Spanish Ratio over Entry Number')\n",
    "plt.ylabel('Ratio of adultSpanish / Total ')\n",
    "plt.xlabel('Entry Number')\n",
    "plt.plot(entryNums, adultSpanishRatios)\n",
    "plt.errorbar(entryNums, adultSpanishRatios, yerr=adultVariances, fmt='none', ecolor='#e67f83');\n",
    "plt.show()"
   ]
  },
  {
   "cell_type": "markdown",
   "metadata": {},
   "source": [
    "### Adult to Quechua\n"
   ]
  },
  {
   "cell_type": "code",
   "execution_count": null,
   "metadata": {},
   "outputs": [],
   "source": [
    "plt.title('Adult to Quechua Ratio over Entry Number')\n",
    "plt.ylabel('Ratio of adultQuechua / Total ')\n",
    "plt.xlabel('Entry Number')\n",
    "plt.plot(entryNums, adultQuechuaRatios)\n",
    "plt.errorbar(entryNums, adultQuechuaRatios, yerr=adultVariances, fmt='none', ecolor='#e67f83');\n",
    "plt.show()"
   ]
  },
  {
   "cell_type": "markdown",
   "metadata": {},
   "source": [
    "### Adult to Mixed"
   ]
  },
  {
   "cell_type": "code",
   "execution_count": null,
   "metadata": {},
   "outputs": [],
   "source": [
    "plt.title('Adult to Mixed Ratio over Entry Number')\n",
    "plt.ylabel('Ratio of adultMixed / Total ')\n",
    "plt.xlabel('Entry Number')\n",
    "plt.plot(entryNums, adultMixedRatios)\n",
    "plt.errorbar(entryNums, adultMixedRatios, yerr=adultVariances, fmt='none', ecolor='#e67f83');\n",
    "plt.show()"
   ]
  },
  {
   "cell_type": "code",
   "execution_count": null,
   "metadata": {},
   "outputs": [],
   "source": [
    "plt.stackplot(entryNums, [adultSpanishRatios, adultQuechuaRatios, adultMixedRatios], baseline='zero', \n",
    "              labels=['Adult Spanish', 'Adult Quechua', 'Adult Mixed'], colors=['#6aaa96', '#aecdc2', '#f0b8b8'])\n",
    "plt.title('Area Plot of Adult Ratios')\n",
    "plt.xlabel('Entry Number')\n",
    "plt.ylabel('Ratio')\n",
    "plt.legend()\n",
    "plt.show()"
   ]
  },
  {
   "cell_type": "markdown",
   "metadata": {},
   "source": [
    "### Target to Addressee"
   ]
  },
  {
   "cell_type": "code",
   "execution_count": null,
   "metadata": {},
   "outputs": [],
   "source": [
    "plt.title('Target to Spanish Ratio over Entry Number')\n",
    "plt.ylabel('Ratio of targetSpanish / Total ')\n",
    "plt.xlabel('Entry Number')\n",
    "plt.plot(entryNums, targetSpanishRatios)\n",
    "plt.errorbar(entryNums, targetSpanishRatios, yerr=targetVariances, fmt='none', ecolor='#e67f83');\n",
    "plt.show()"
   ]
  },
  {
   "cell_type": "code",
   "execution_count": null,
   "metadata": {},
   "outputs": [],
   "source": [
    "plt.title('Target to Quechua Ratio over Entry Number')\n",
    "plt.ylabel('Ratio of targetQuechua / Total ')\n",
    "plt.xlabel('Entry Number')\n",
    "plt.plot(entryNums, targetQuechuaRatios)\n",
    "plt.errorbar(entryNums, targetQuechuaRatios, yerr=targetVariances, fmt='none', ecolor='#e67f83');\n",
    "plt.show()"
   ]
  },
  {
   "cell_type": "code",
   "execution_count": null,
   "metadata": {},
   "outputs": [],
   "source": [
    "plt.title('Target to Mixed Ratio over Entry Number')\n",
    "plt.ylabel('Ratio of mixedQuechua / Total ')\n",
    "plt.xlabel('Entry Number')\n",
    "plt.plot(entryNums, targetMixedRatios)\n",
    "plt.errorbar(entryNums, targetMixedRatios, yerr=targetVariances, fmt='none', ecolor='#e67f83');\n",
    "plt.show()"
   ]
  },
  {
   "cell_type": "code",
   "execution_count": null,
   "metadata": {},
   "outputs": [],
   "source": [
    "plt.stackplot(entryNums, [targetSpanishRatios, targetQuechuaRatios, targetMixedRatios], baseline='zero', \n",
    "              labels=['Target Spanish', 'Target Quechua', 'Target Mixed'], colors=['#6aaa96', '#aecdc2', '#f0b8b8'])\n",
    "plt.title('Area Plot of Target Ratios')\n",
    "plt.xlabel('Entry Number')\n",
    "plt.ylabel('Ratio')\n",
    "plt.legend()\n",
    "plt.show()"
   ]
  },
  {
   "cell_type": "markdown",
   "metadata": {},
   "source": [
    "### Other to Addressee"
   ]
  },
  {
   "cell_type": "code",
   "execution_count": null,
   "metadata": {},
   "outputs": [],
   "source": [
    "plt.title('Other to Spanish Ratio over Entry Number')\n",
    "plt.ylabel('Ratio of otherSpanish / Total ')\n",
    "plt.xlabel('Entry Number')\n",
    "plt.plot(entryNums, otherSpanishRatios)\n",
    "plt.errorbar(entryNums, otherSpanishRatios, yerr=otherVariances, fmt='none', ecolor='#e67f83');\n",
    "plt.show()"
   ]
  },
  {
   "cell_type": "code",
   "execution_count": null,
   "metadata": {},
   "outputs": [],
   "source": [
    "plt.title('Other to Quechua Ratio over Entry Number')\n",
    "plt.ylabel('Ratio of otherQuechua / Total ')\n",
    "plt.xlabel('Entry Number')\n",
    "plt.plot(entryNums, otherQuechuaRatios)\n",
    "plt.errorbar(entryNums, otherQuechuaRatios, yerr=otherVariances, fmt='none', ecolor='#e67f83');\n",
    "plt.show()"
   ]
  },
  {
   "cell_type": "code",
   "execution_count": null,
   "metadata": {},
   "outputs": [],
   "source": [
    "plt.title('Other to Mixed Ratio over Entry Number')\n",
    "plt.ylabel('Ratio of otherMixed / Total ')\n",
    "plt.xlabel('Entry Number')\n",
    "plt.plot(entryNums, otherMixedRatios)\n",
    "plt.errorbar(entryNums, otherMixedRatios, yerr=otherVariances, fmt='none', ecolor='#e67f83');\n",
    "plt.show()"
   ]
  },
  {
   "cell_type": "code",
   "execution_count": null,
   "metadata": {},
   "outputs": [],
   "source": [
    "plt.stackplot(entryNums, [otherSpanishRatios, otherQuechuaRatios, otherMixedRatios], baseline='zero', \n",
    "              labels=['Other Spanish', 'Other Quechua', 'Other Mixed'], colors=['#6aaa96', '#aecdc2', '#f0b8b8'])\n",
    "plt.title('Area Plot of Other Ratios')\n",
    "plt.xlabel('Entry Number')\n",
    "plt.ylabel('Ratio')\n",
    "plt.legend()\n",
    "plt.show()"
   ]
  }
 ],
 "metadata": {
  "kernelspec": {
   "display_name": "Python 3",
   "language": "python",
   "name": "python3"
  },
  "language_info": {
   "codemirror_mode": {
    "name": "ipython",
    "version": 3
   },
   "file_extension": ".py",
   "mimetype": "text/x-python",
   "name": "python",
   "nbconvert_exporter": "python",
   "pygments_lexer": "ipython3",
   "version": "3.7.6"
  }
 },
 "nbformat": 4,
 "nbformat_minor": 2
}
