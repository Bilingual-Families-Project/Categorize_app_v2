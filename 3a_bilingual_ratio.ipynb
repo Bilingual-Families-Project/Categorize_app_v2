{
 "cells": [
  {
   "cell_type": "markdown",
   "metadata": {},
   "source": [
    "# Bilingual Ratio Notebook \n",
    "Go to Cell > Run All to run the notebook. "
   ]
  },
  {
   "cell_type": "code",
   "execution_count": null,
   "metadata": {},
   "outputs": [],
   "source": [
    "import pandas as pd\n",
    "import numpy as np \n",
    "import csv\n",
    "import matplotlib.pyplot as plt"
   ]
  },
  {
   "cell_type": "code",
   "execution_count": null,
   "metadata": {},
   "outputs": [],
   "source": [
    "df = pd.read_csv(\"/Users/Meg/Downloads/responses.csv\")"
   ]
  },
  {
   "cell_type": "markdown",
   "metadata": {},
   "source": [
    "This gives you a general sense of the language breakdown of the participant."
   ]
  },
  {
   "cell_type": "code",
   "execution_count": null,
   "metadata": {},
   "outputs": [],
   "source": [
    "lToCat = df[\"Language\"].value_counts()\n",
    "lToCat"
   ]
  },
  {
   "cell_type": "markdown",
   "metadata": {},
   "source": [
    "## Bilingual Ratio/Variance vs. Entry Number"
   ]
  },
  {
   "cell_type": "code",
   "execution_count": null,
   "metadata": {},
   "outputs": [],
   "source": [
    "spanish, quechua, mixed, other = 1, 1, 1, 1\n",
    "num = 0\n",
    "entryNums = []\n",
    "spanishRatios = []\n",
    "quechuaRatios = []\n",
    "mixedRatios = []\n",
    "variances = []\n",
    "for index, row in df.iterrows(): \n",
    "    lang = row['Language']\n",
    "    if lang == 'Spanish': \n",
    "        spanish += 1 \n",
    "    elif lang == 'Quechua':\n",
    "        quechua += 1 \n",
    "    elif lang == 'Mixed': \n",
    "        mixed += 1\n",
    "    else: \n",
    "        other += 1\n",
    "    entryNums.append(num)\n",
    "    num += 1\n",
    "    spanishRatios.append(spanish/(quechua + spanish + mixed))\n",
    "    quechuaRatios.append(quechua/(quechua + spanish + mixed))\n",
    "    mixedRatios.append(mixed/(quechua + spanish + mixed))\n",
    "    variances.append(np.var(spanishRatios))"
   ]
  },
  {
   "cell_type": "markdown",
   "metadata": {},
   "source": [
    "## Bilingual Ratio\n",
    "This will display the ratio of the spanish compared to the rest of the counts, an error bar is also displayed which shows the variance at each point, which should also decrease."
   ]
  },
  {
   "cell_type": "code",
   "execution_count": null,
   "metadata": {},
   "outputs": [],
   "source": [
    "### RATIOS VS ENTRY NUMS\n",
    "plt.title('Bilingual Ratio over Entry Number')\n",
    "plt.ylabel('Ratio of Spanish / Total ')\n",
    "plt.xlabel('Entry Number')\n",
    "plt.plot(entryNums, spanishRatios)\n",
    "plt.errorbar(entryNums, spanishRatios, yerr=variances, fmt='none', ecolor='#e67f83');\n",
    "plt.show()"
   ]
  },
  {
   "cell_type": "markdown",
   "metadata": {},
   "source": [
    "## Variance\n",
    "We want variance to get lower over the number of entries, so that the Spanish bilingual ratio stabilizes over time. It is important to watch variance and the graph above, just marking the ratio to find out when there have been enough entries annotated."
   ]
  },
  {
   "cell_type": "code",
   "execution_count": null,
   "metadata": {},
   "outputs": [],
   "source": [
    "## VARIANCE VS ENTRY NUMS\n",
    "plt.title('Bilingual Ratio Variance over Entry Number')\n",
    "plt.ylabel('Ratio of Spanish / Total ')\n",
    "plt.xlabel('Entry Number')\n",
    "plt.plot(entryNums, variances)\n",
    "plt.show()"
   ]
  },
  {
   "cell_type": "markdown",
   "metadata": {},
   "source": [
    "## Language Category \n",
    "This is the count of category, a bar graph showing how many entries there are of each type. "
   ]
  },
  {
   "cell_type": "code",
   "execution_count": null,
   "metadata": {},
   "outputs": [],
   "source": [
    "x = np.arange(4)\n",
    "plt.bar(x, [spanish, quechua, mixed, other])\n",
    "plt.xticks(x, ('Spanish', 'Quechua', 'Mixed', 'Other'))\n",
    "plt.title('Counts of each Language Category')\n",
    "plt.xlabel('Language Category')\n",
    "plt.ylabel('Count')\n",
    "plt.show()"
   ]
  },
  {
   "cell_type": "markdown",
   "metadata": {},
   "source": [
    "## Stackplot of Ratios\n",
    "This shows what the breakdown over entry number each language has."
   ]
  },
  {
   "cell_type": "code",
   "execution_count": null,
   "metadata": {},
   "outputs": [],
   "source": [
    "plt.stackplot(entryNums, [spanishRatios, quechuaRatios, mixedRatios], baseline='zero', labels=['Spanish', 'Quechua', \n",
    "                            'Mixed'], colors=['#6aaa96', '#aecdc2', '#f0b8b8'])\n",
    "plt.title('Area Plot of Ratios')\n",
    "plt.xlabel('Entry Number')\n",
    "plt.ylabel('Ratio')\n",
    "plt.legend()\n",
    "plt.show()"
   ]
  },
  {
   "cell_type": "markdown",
   "metadata": {},
   "source": [
    "### "
   ]
  }
 ],
 "metadata": {
  "kernelspec": {
   "display_name": "Python 3",
   "language": "python",
   "name": "python3"
  },
  "language_info": {
   "codemirror_mode": {
    "name": "ipython",
    "version": 3
   },
   "file_extension": ".py",
   "mimetype": "text/x-python",
   "name": "python",
   "nbconvert_exporter": "python",
   "pygments_lexer": "ipython3",
   "version": "3.7.6"
  }
 },
 "nbformat": 4,
 "nbformat_minor": 2
}
