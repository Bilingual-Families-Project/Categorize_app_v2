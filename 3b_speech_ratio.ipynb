{
 "cells": [
  {
   "cell_type": "markdown",
   "metadata": {},
   "source": [
    "# Speech Ratio Notebook \n",
    "Go to Cell > Run All to run the notebook. "
   ]
  },
  {
   "cell_type": "code",
   "execution_count": null,
   "metadata": {},
   "outputs": [],
   "source": [
    "import pandas as pd\n",
    "import numpy as np \n",
    "import csv\n",
    "import matplotlib.pyplot as plt"
   ]
  },
  {
   "cell_type": "code",
   "execution_count": null,
   "metadata": {},
   "outputs": [],
   "source": [
    "df = pd.read_csv(\"/Users/Meg/Box Sync/Diss_data/Fall_2019_LRAP/Daylong_recordings/summer_2019/1094/output/biling_responses.csv\")"
   ]
  },
  {
   "cell_type": "markdown",
   "metadata": {},
   "source": [
    "This gives you a general sense of the speech breakdown of the participant."
   ]
  },
  {
   "cell_type": "code",
   "execution_count": null,
   "metadata": {},
   "outputs": [],
   "source": [
    "lToCat = df[\"Speech\"].value_counts()\n",
    "lToCat"
   ]
  },
  {
   "cell_type": "markdown",
   "metadata": {},
   "source": [
    "## Speech Ratio/Variance vs. Entry Number"
   ]
  },
  {
   "cell_type": "code",
   "execution_count": null,
   "metadata": {},
   "outputs": [],
   "source": [
    "CDS, ODS, mixed, other = 1, 1, 1, 1\n",
    "num = 0\n",
    "entryNums = []\n",
    "CDSRatios = []\n",
    "ODSRatios = []\n",
    "mixedRatios = []\n",
    "variances = []\n",
    "for index, row in df.iterrows(): \n",
    "    lang = row['Speech']\n",
    "    if lang == 'CDS': \n",
    "        CDS += 1 \n",
    "    elif lang == 'ODS':\n",
    "        ODS += 1 \n",
    "    elif lang == 'Mixed': \n",
    "        mixed += 1\n",
    "    else: \n",
    "        other += 1\n",
    "    entryNums.append(num)\n",
    "    num += 1\n",
    "    CDSRatios.append(CDS/(ODS + CDS + mixed))\n",
    "    ODSRatios.append(ODS/(ODS + CDS + mixed))\n",
    "    mixedRatios.append(mixed/(ODS + CDS + mixed))\n",
    "    variances.append(np.var(CDSRatios))"
   ]
  },
  {
   "cell_type": "markdown",
   "metadata": {},
   "source": [
    "## Speech Ratio\n",
    "This will display the ratio of CDS compared to the rest of the counts, an error bar is also displayed which shows the variance at each point, which should also decrease."
   ]
  },
  {
   "cell_type": "code",
   "execution_count": null,
   "metadata": {},
   "outputs": [],
   "source": [
    "### RATIOS VS ENTRY NUMS\n",
    "plt.title('Speech Ratio over Entry Number')\n",
    "plt.ylabel('Ratio of CDS / Total ')\n",
    "plt.xlabel('Entry Number')\n",
    "plt.plot(entryNums, CDSRatios)\n",
    "plt.errorbar(entryNums, CDSRatios, yerr=variances, fmt='none', ecolor='#e67f83');\n",
    "plt.show()"
   ]
  },
  {
   "cell_type": "markdown",
   "metadata": {},
   "source": [
    "## Variance\n",
    "We want variance to get lower over the number of entries, so that the CDS:ODS ratio stabilizes over time. It is important to watch variance and the graph above, just marking the ratio to find out when there have been enough entries annotated."
   ]
  },
  {
   "cell_type": "code",
   "execution_count": null,
   "metadata": {},
   "outputs": [],
   "source": [
    "## VARIANCE VS ENTRY NUMS\n",
    "plt.title('Speech Ratio Variance over Entry Number')\n",
    "plt.ylabel('Ratio of CDS / Total ')\n",
    "plt.xlabel('Entry Number')\n",
    "plt.plot(entryNums, variances)\n",
    "plt.show()"
   ]
  },
  {
   "cell_type": "markdown",
   "metadata": {},
   "source": [
    "## Speech Category \n",
    "This is the count of category, a bar graph showing how many entries there are of each type. "
   ]
  },
  {
   "cell_type": "code",
   "execution_count": null,
   "metadata": {},
   "outputs": [],
   "source": [
    "x = np.arange(4)\n",
    "plt.bar(x, [CDS, ODS, mixed, other])\n",
    "plt.xticks(x, ('CDS', 'ODS', 'Mixed', 'Other'))\n",
    "plt.title('Counts of each Speech Category')\n",
    "plt.xlabel('Speech Category')\n",
    "plt.ylabel('Count')\n",
    "plt.show()"
   ]
  },
  {
   "cell_type": "markdown",
   "metadata": {},
   "source": [
    "## Stackplot of Ratios\n",
    "This shows what the breakdown over entry number each language has."
   ]
  },
  {
   "cell_type": "code",
   "execution_count": null,
   "metadata": {},
   "outputs": [],
   "source": [
    "plt.stackplot(entryNums, [CDSRatios, ODSRatios, mixedRatios], baseline='zero', labels=['CDS', 'ODS', \n",
    "                            'Mixed'], colors=['#6aaa96', '#aecdc2', '#f0b8b8'])\n",
    "plt.title('Area Plot of Ratios')\n",
    "plt.xlabel('Entry Number')\n",
    "plt.ylabel('Ratio')\n",
    "plt.legend()\n",
    "plt.show()"
   ]
  },
  {
   "cell_type": "markdown",
   "metadata": {},
   "source": [
    "### "
   ]
  }
 ],
 "metadata": {
  "kernelspec": {
   "display_name": "Python 3",
   "language": "python",
   "name": "python3"
  },
  "language_info": {
   "codemirror_mode": {
    "name": "ipython",
    "version": 3
   },
   "file_extension": ".py",
   "mimetype": "text/x-python",
   "name": "python",
   "nbconvert_exporter": "python",
   "pygments_lexer": "ipython3",
   "version": "3.7.6"
  }
 },
 "nbformat": 4,
 "nbformat_minor": 2
}
